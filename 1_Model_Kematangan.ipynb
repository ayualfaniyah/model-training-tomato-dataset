{
  "cells": [
    {
      "cell_type": "markdown",
      "metadata": {
        "id": "view-in-github",
        "colab_type": "text"
      },
      "source": [
        "<a href=\"https://colab.research.google.com/github/ayualfaniyah/model-training-tomato-dataset/blob/main/1_Model_Kematangan.ipynb\" target=\"_parent\"><img src=\"https://colab.research.google.com/assets/colab-badge.svg\" alt=\"Open In Colab\"/></a>"
      ]
    },
    {
      "cell_type": "code",
      "execution_count": null,
      "metadata": {
        "colab": {
          "base_uri": "https://localhost:8080/"
        },
        "id": "aNDDgmvCcIln",
        "outputId": "e1180113-12e7-40f2-9295-972486cad717"
      },
      "outputs": [
        {
          "output_type": "stream",
          "name": "stdout",
          "text": [
            "Mounted at /content/drive\n"
          ]
        }
      ],
      "source": [
        "from google.colab import drive\n",
        "drive.mount('/content/drive')"
      ]
    },
    {
      "cell_type": "code",
      "execution_count": null,
      "metadata": {
        "id": "MKORVcKy6sBt"
      },
      "outputs": [],
      "source": [
        "import zipfile, os\n",
        "local_zip = '/content/drive/MyDrive/Tomatt Belumm Di Proses Balance.zip'\n",
        "zip_ref = zipfile.ZipFile(local_zip, 'r')\n",
        "zip_ref.extractall()\n",
        "zip_ref.close()"
      ]
    },
    {
      "cell_type": "code",
      "execution_count": null,
      "metadata": {
        "colab": {
          "base_uri": "https://localhost:8080/"
        },
        "id": "0FkKntF6TzM_",
        "outputId": "388a077d-1c36-4f8c-8f78-1cc4c2fb1cea"
      },
      "outputs": [
        {
          "output_type": "stream",
          "name": "stdout",
          "text": [
            "Jumlah Data Train Tiap Kelas\n",
            "Jumlah gambar Hijau    : 110\n",
            "Jumlah gambar Kuning  : 111\n",
            "Jumlah gambar Merah  : 110\n",
            "Jumlah gambar Kuning_Kehijaun  : 110\n",
            "Jumlah gambar Kuning_Kemerahan  : 110\n"
          ]
        }
      ],
      "source": [
        "import os\n",
        "\n",
        "print(\"Jumlah Data Train Tiap Kelas\")\n",
        "print('Jumlah gambar Hijau    :', len(os.listdir('/content/File/Hijau')))\n",
        "print('Jumlah gambar Kuning  :', len(os.listdir('/content/File/Kuning')))\n",
        "print('Jumlah gambar Merah  :', len(os.listdir('/content/File/Merah')))\n",
        "print('Jumlah gambar Kuning_Kehijaun  :', len(os.listdir('/content/File/Kuning_Kehijauan')))\n",
        "print('Jumlah gambar Kuning_Kemerahan  :', len(os.listdir('/content/File/Kuning_Kemerahan')))"
      ]
    },
    {
      "cell_type": "code",
      "execution_count": null,
      "metadata": {
        "id": "V37SNNCfU4L_"
      },
      "outputs": [],
      "source": [
        "os.mkdir('/tmp/s/')\n",
        "os.mkdir('/tmp/s/train/')\n",
        "os.mkdir('/tmp/s/val/')\n",
        "os.mkdir('/tmp/s/train/Hijau/')\n",
        "os.mkdir('/tmp/s/val/Hijau/')\n",
        "os.mkdir('/tmp/s/train/Kuning/')\n",
        "os.mkdir('/tmp/s/val/Kuning/')\n",
        "os.mkdir('/tmp/s/train/Merah/')\n",
        "os.mkdir('/tmp/s/val/Merah/')\n",
        "os.mkdir('/tmp/s/train/Kuning_Kehijauan/')\n",
        "os.mkdir('/tmp/s/val/Kuning_Kehijauan/')\n",
        "os.mkdir('/tmp/s/train/Kuning_Kemerahan/')\n",
        "os.mkdir('/tmp/s/val/Kuning_Kemerahan/')"
      ]
    },
    {
      "cell_type": "code",
      "execution_count": null,
      "metadata": {
        "id": "pqh_DFNqU9v2"
      },
      "outputs": [],
      "source": [
        "import random\n",
        "from shutil import copyfile\n",
        "\n",
        "def train_val_split(source, train, val, train_ratio):\n",
        "  total_size = len(os.listdir(source))\n",
        "  train_size = int(train_ratio * total_size)\n",
        "  val_size = total_size - train_size\n",
        "\n",
        "  randomized = random.sample(os.listdir(source), total_size)\n",
        "  train_files = randomized[0:train_size]\n",
        "  val_files = randomized[train_size:total_size]\n",
        "\n",
        "  for i in train_files:\n",
        "    i_file = source + i\n",
        "    destination = train + i\n",
        "    copyfile(i_file, destination)\n",
        "\n",
        "  for i in val_files:\n",
        "    i_file = source + i\n",
        "    destination = val + i\n",
        "    copyfile(i_file, destination)\n",
        "\n",
        "train_ratio = 0.8\n",
        "\n",
        "#Pembagian Training dan Validasi\n",
        "\n",
        "source_00 = '/content/File/Hijau/'\n",
        "train_00 = '/tmp/s/train/Hijau/'\n",
        "val_00 = '/tmp/s/val/Hijau/'\n",
        "train_val_split(source_00, train_00, val_00, train_ratio)\n",
        "\n",
        "source_01 = '/content/File/Kuning/'\n",
        "train_01 = '/tmp/s/train/Kuning/'\n",
        "val_01 = '/tmp/s/val/Kuning/'\n",
        "train_val_split(source_01, train_01, val_01, train_ratio)\n",
        "\n",
        "source_02 = '/content/File/Merah/'\n",
        "train_02 = '/tmp/s/train/Merah/'\n",
        "val_02 = '/tmp/s/val/Merah/'\n",
        "train_val_split(source_02, train_02, val_02, train_ratio)\n",
        "\n",
        "\n",
        "source_03 = '/content/File/Kuning_Kehijauan/'\n",
        "train_03 = '/tmp/s/train/Kuning_Kehijauan/'\n",
        "val_03 = '/tmp/s/val/Kuning_Kehijauan/'\n",
        "train_val_split(source_03, train_03, val_03, train_ratio)\n",
        "\n",
        "source_04 = '/content/File/Kuning_Kemerahan/'\n",
        "train_04 = '/tmp/s/train/Kuning_Kemerahan/'\n",
        "val_04 = '/tmp/s/val/Kuning_Kemerahan/'\n",
        "train_val_split(source_04, train_04, val_04, train_ratio)"
      ]
    },
    {
      "cell_type": "code",
      "execution_count": null,
      "metadata": {
        "id": "Syns4tNEVFc6"
      },
      "outputs": [],
      "source": [
        "import tensorflow as tf\n",
        "from tensorflow.keras.optimizers import Adam\n",
        "from tensorflow.keras.preprocessing.image import ImageDataGenerator"
      ]
    },
    {
      "cell_type": "code",
      "execution_count": null,
      "metadata": {
        "id": "BHsWXodwVji7"
      },
      "outputs": [],
      "source": [
        "train_datagen = ImageDataGenerator(\n",
        "                  rescale = 1./255.,\n",
        "                  rotation_range = 30,\n",
        "                  horizontal_flip = True,\n",
        "                  shear_range = 0.3,\n",
        "                  fill_mode = 'nearest',\n",
        "                  width_shift_range = 0.2,\n",
        "                  height_shift_range = 0.2,\n",
        "                  zoom_range = 0.1\n",
        ")\n",
        "\n",
        "val_datagen = ImageDataGenerator(\n",
        "                rescale = 1./255.,\n",
        "                rotation_range = 30,\n",
        "                horizontal_flip = True,\n",
        "                shear_range = 0.3,\n",
        "                fill_mode = 'nearest',\n",
        "                width_shift_range = 0.2,\n",
        "                height_shift_range = 0.2,\n",
        "                zoom_range = 0.1\n",
        ")"
      ]
    },
    {
      "cell_type": "code",
      "execution_count": null,
      "metadata": {
        "colab": {
          "base_uri": "https://localhost:8080/"
        },
        "id": "hbJKmGgYVmg8",
        "outputId": "f0ad1584-988f-4e53-b97b-37c2774cd78e"
      },
      "outputs": [
        {
          "output_type": "stream",
          "name": "stdout",
          "text": [
            "Found 440 images belonging to 5 classes.\n",
            "Found 111 images belonging to 5 classes.\n"
          ]
        }
      ],
      "source": [
        "train_dir = '/tmp/s/train/'\n",
        "train_generator = train_datagen.flow_from_directory(\n",
        "    train_dir,\n",
        "    target_size = (224, 224),\n",
        "    batch_size = 8,\n",
        "    class_mode = 'categorical'\n",
        ")\n",
        "\n",
        "val_dir = '/tmp/s/val/'\n",
        "val_generator = val_datagen.flow_from_directory(\n",
        "    val_dir,\n",
        "    target_size = (224, 224),\n",
        "    batch_size = 8,\n",
        "    class_mode = 'categorical'\n",
        ")"
      ]
    },
    {
      "cell_type": "code",
      "execution_count": null,
      "metadata": {
        "id": "wVqANt9vVpi2"
      },
      "outputs": [],
      "source": [
        "# callbacks\n",
        "class myCallback(tf.keras.callbacks.Callback):\n",
        "  def on_epoch_end(self, epoch, logs = {}):\n",
        "    if(logs.get('accuracy') > 0.99):\n",
        "      print('\\nAkurasi mencapai 99%')\n",
        "      self.model.stop_training = True\n",
        "\n",
        "callbacks = myCallback()"
      ]
    },
    {
      "cell_type": "code",
      "execution_count": null,
      "metadata": {
        "id": "xTPM2RsIjM0z"
      },
      "outputs": [],
      "source": [
        "from tensorflow.keras.applications import MobileNetV2\n",
        "from keras import Sequential\n",
        "from keras.layers import Dense, Conv2D, MaxPooling2D, Flatten, AveragePooling2D, Dropout, BatchNormalization"
      ]
    },
    {
      "cell_type": "code",
      "execution_count": null,
      "metadata": {
        "colab": {
          "base_uri": "https://localhost:8080/"
        },
        "id": "lAFguMLVfFsf",
        "outputId": "e66805d6-88ad-4380-e1fd-f680e4d78815"
      },
      "outputs": [
        {
          "output_type": "stream",
          "name": "stdout",
          "text": [
            "Downloading data from https://storage.googleapis.com/tensorflow/keras-applications/mobilenet_v2/mobilenet_v2_weights_tf_dim_ordering_tf_kernels_1.0_224_no_top.h5\n",
            "9406464/9406464 [==============================] - 0s 0us/step\n"
          ]
        }
      ],
      "source": [
        "MobileNetV2_base = MobileNetV2(weights='imagenet', include_top=False, input_shape=(224, 224, 3),\n",
        "                              pooling='avg')\n",
        "\n",
        "# Freeze the pre-trained base model layers\n",
        "MobileNetV2_base.trainable = False"
      ]
    },
    {
      "cell_type": "code",
      "execution_count": null,
      "metadata": {
        "id": "KVWjikDqfNY_"
      },
      "outputs": [],
      "source": [
        "# Build the model\n",
        "model = Sequential()\n",
        "\n",
        "# Add the pre-trained Xception base\n",
        "model.add(MobileNetV2_base)\n",
        "\n",
        "# Batch Normalization\n",
        "model.add(BatchNormalization())\n",
        "\n",
        "# Dropout Layer\n",
        "model.add(Dropout(0.17))\n",
        "\n",
        "# Add a dense layer with 120 units and ReLU activation function\n",
        "model.add(Dense(110, activation='relu'))\n",
        "\n",
        "# Add a dense layer with 120 units and ReLU activation function\n",
        "model.add(Dense(30, activation='relu'))\n",
        "\n",
        "# Add the output layer with 1 unit and sigmoid activation function for binary classification\n",
        "model.add(Dense(5, activation='softmax'))"
      ]
    },
    {
      "cell_type": "code",
      "execution_count": null,
      "metadata": {
        "colab": {
          "base_uri": "https://localhost:8080/"
        },
        "id": "UP62mKbXf4F3",
        "outputId": "e169a265-5b45-4b5e-aa0d-ab23b899c9bf"
      },
      "outputs": [
        {
          "output_type": "stream",
          "name": "stdout",
          "text": [
            "Model: \"sequential\"\n",
            "_________________________________________________________________\n",
            " Layer (type)                Output Shape              Param #   \n",
            "=================================================================\n",
            " mobilenetv2_1.00_224 (Func  (None, 1280)              2257984   \n",
            " tional)                                                         \n",
            "                                                                 \n",
            " batch_normalization (Batch  (None, 1280)              5120      \n",
            " Normalization)                                                  \n",
            "                                                                 \n",
            " dropout (Dropout)           (None, 1280)              0         \n",
            "                                                                 \n",
            " dense (Dense)               (None, 110)               140910    \n",
            "                                                                 \n",
            " dense_1 (Dense)             (None, 30)                3330      \n",
            "                                                                 \n",
            " dense_2 (Dense)             (None, 5)                 155       \n",
            "                                                                 \n",
            "=================================================================\n",
            "Total params: 2407499 (9.18 MB)\n",
            "Trainable params: 146955 (574.04 KB)\n",
            "Non-trainable params: 2260544 (8.62 MB)\n",
            "_________________________________________________________________\n"
          ]
        }
      ],
      "source": [
        "model.summary()"
      ]
    },
    {
      "cell_type": "code",
      "execution_count": null,
      "metadata": {
        "id": "MjpT3royf6oP"
      },
      "outputs": [],
      "source": [
        "base_learning_rate = 0.00002\n",
        "model.compile(optimizer=tf.keras.optimizers.Adam(learning_rate=base_learning_rate),\n",
        " loss='categorical_crossentropy', metrics=['accuracy'])"
      ]
    },
    {
      "cell_type": "code",
      "execution_count": null,
      "metadata": {
        "id": "57vyAw1ZgUU4"
      },
      "outputs": [],
      "source": [
        "from tensorflow.keras.callbacks import EarlyStopping"
      ]
    },
    {
      "cell_type": "code",
      "execution_count": null,
      "metadata": {
        "colab": {
          "base_uri": "https://localhost:8080/"
        },
        "id": "f4YScs39gA7w",
        "outputId": "5b8ed66b-bccc-4769-f246-10b922c5c101"
      },
      "outputs": [
        {
          "output_type": "stream",
          "name": "stdout",
          "text": [
            "Epoch 1/100\n",
            "55/55 [==============================] - 92s 2s/step - loss: 1.8911 - accuracy: 0.2750 - val_loss: 1.6889 - val_accuracy: 0.2793\n",
            "Epoch 2/100\n",
            "55/55 [==============================] - 86s 2s/step - loss: 1.6818 - accuracy: 0.3250 - val_loss: 1.4520 - val_accuracy: 0.3964\n",
            "Epoch 3/100\n",
            "55/55 [==============================] - 85s 2s/step - loss: 1.5500 - accuracy: 0.3841 - val_loss: 1.3363 - val_accuracy: 0.4234\n",
            "Epoch 4/100\n",
            "55/55 [==============================] - 85s 2s/step - loss: 1.3748 - accuracy: 0.4409 - val_loss: 1.2490 - val_accuracy: 0.5135\n",
            "Epoch 5/100\n",
            "55/55 [==============================] - 75s 1s/step - loss: 1.2634 - accuracy: 0.5205 - val_loss: 1.1725 - val_accuracy: 0.5495\n",
            "Epoch 6/100\n",
            "55/55 [==============================] - 78s 1s/step - loss: 1.1941 - accuracy: 0.5318 - val_loss: 1.0932 - val_accuracy: 0.5495\n",
            "Epoch 7/100\n",
            "55/55 [==============================] - 84s 2s/step - loss: 1.1235 - accuracy: 0.5659 - val_loss: 1.0076 - val_accuracy: 0.6306\n",
            "Epoch 8/100\n",
            "55/55 [==============================] - 79s 1s/step - loss: 1.0860 - accuracy: 0.6045 - val_loss: 0.9267 - val_accuracy: 0.6757\n",
            "Epoch 9/100\n",
            "55/55 [==============================] - 81s 1s/step - loss: 1.0124 - accuracy: 0.6341 - val_loss: 0.9040 - val_accuracy: 0.6847\n",
            "Epoch 10/100\n",
            "55/55 [==============================] - 84s 2s/step - loss: 0.9960 - accuracy: 0.6136 - val_loss: 0.7951 - val_accuracy: 0.7297\n",
            "Epoch 11/100\n",
            "55/55 [==============================] - 85s 2s/step - loss: 0.9009 - accuracy: 0.6614 - val_loss: 0.7870 - val_accuracy: 0.7658\n",
            "Epoch 12/100\n",
            "55/55 [==============================] - 86s 2s/step - loss: 0.8869 - accuracy: 0.6659 - val_loss: 0.7913 - val_accuracy: 0.7117\n",
            "Epoch 13/100\n",
            "55/55 [==============================] - 83s 1s/step - loss: 0.8702 - accuracy: 0.6795 - val_loss: 0.6462 - val_accuracy: 0.7748\n",
            "Epoch 14/100\n",
            "55/55 [==============================] - 84s 2s/step - loss: 0.8134 - accuracy: 0.7045 - val_loss: 0.6434 - val_accuracy: 0.7568\n",
            "Epoch 15/100\n",
            "55/55 [==============================] - 83s 2s/step - loss: 0.8079 - accuracy: 0.6818 - val_loss: 0.6268 - val_accuracy: 0.7838\n",
            "Epoch 16/100\n",
            "55/55 [==============================] - 88s 2s/step - loss: 0.7521 - accuracy: 0.7341 - val_loss: 0.5971 - val_accuracy: 0.7748\n",
            "Epoch 17/100\n",
            "55/55 [==============================] - 81s 1s/step - loss: 0.7785 - accuracy: 0.7182 - val_loss: 0.5557 - val_accuracy: 0.7748\n",
            "Epoch 18/100\n",
            "55/55 [==============================] - 93s 2s/step - loss: 0.7056 - accuracy: 0.7432 - val_loss: 0.5863 - val_accuracy: 0.7928\n",
            "Epoch 19/100\n",
            "55/55 [==============================] - 91s 2s/step - loss: 0.6893 - accuracy: 0.7523 - val_loss: 0.5546 - val_accuracy: 0.7928\n",
            "Epoch 20/100\n",
            "55/55 [==============================] - 84s 2s/step - loss: 0.7043 - accuracy: 0.7432 - val_loss: 0.5039 - val_accuracy: 0.8378\n",
            "Epoch 21/100\n",
            "55/55 [==============================] - 80s 1s/step - loss: 0.6896 - accuracy: 0.7386 - val_loss: 0.4787 - val_accuracy: 0.8559\n",
            "Epoch 22/100\n",
            "55/55 [==============================] - 87s 2s/step - loss: 0.6650 - accuracy: 0.7523 - val_loss: 0.5148 - val_accuracy: 0.8378\n",
            "Epoch 23/100\n",
            "55/55 [==============================] - 86s 2s/step - loss: 0.6484 - accuracy: 0.7795 - val_loss: 0.4840 - val_accuracy: 0.8198\n",
            "Epoch 24/100\n",
            "55/55 [==============================] - 86s 2s/step - loss: 0.6261 - accuracy: 0.7818 - val_loss: 0.4181 - val_accuracy: 0.8559\n",
            "Epoch 25/100\n",
            "55/55 [==============================] - 78s 1s/step - loss: 0.6216 - accuracy: 0.7864 - val_loss: 0.4537 - val_accuracy: 0.8468\n",
            "Epoch 26/100\n",
            "55/55 [==============================] - 83s 2s/step - loss: 0.6109 - accuracy: 0.7455 - val_loss: 0.4744 - val_accuracy: 0.8288\n",
            "Epoch 27/100\n",
            "55/55 [==============================] - 89s 2s/step - loss: 0.6233 - accuracy: 0.7750 - val_loss: 0.4299 - val_accuracy: 0.8559\n",
            "Epoch 28/100\n",
            "55/55 [==============================] - 89s 2s/step - loss: 0.5279 - accuracy: 0.8295 - val_loss: 0.4391 - val_accuracy: 0.8559\n",
            "Epoch 29/100\n",
            "55/55 [==============================] - 78s 1s/step - loss: 0.6041 - accuracy: 0.7705 - val_loss: 0.4362 - val_accuracy: 0.8559\n",
            "Epoch 30/100\n",
            "55/55 [==============================] - 88s 2s/step - loss: 0.5565 - accuracy: 0.7932 - val_loss: 0.3024 - val_accuracy: 0.9369\n",
            "Epoch 31/100\n",
            "55/55 [==============================] - 88s 2s/step - loss: 0.5563 - accuracy: 0.7955 - val_loss: 0.4151 - val_accuracy: 0.8468\n",
            "Epoch 32/100\n",
            "55/55 [==============================] - 88s 2s/step - loss: 0.5305 - accuracy: 0.7955 - val_loss: 0.3664 - val_accuracy: 0.9099\n",
            "Epoch 33/100\n",
            "55/55 [==============================] - 79s 1s/step - loss: 0.5243 - accuracy: 0.8068 - val_loss: 0.3235 - val_accuracy: 0.8919\n",
            "Epoch 34/100\n",
            "55/55 [==============================] - 85s 2s/step - loss: 0.4952 - accuracy: 0.8114 - val_loss: 0.3707 - val_accuracy: 0.8468\n",
            "Epoch 35/100\n",
            "55/55 [==============================] - 83s 2s/step - loss: 0.5419 - accuracy: 0.8023 - val_loss: 0.3636 - val_accuracy: 0.9009\n",
            "Epoch 36/100\n",
            "55/55 [==============================] - 89s 2s/step - loss: 0.5110 - accuracy: 0.8182 - val_loss: 0.3150 - val_accuracy: 0.9009\n",
            "Epoch 37/100\n",
            "55/55 [==============================] - 82s 1s/step - loss: 0.4964 - accuracy: 0.8250 - val_loss: 0.3674 - val_accuracy: 0.8919\n",
            "Epoch 38/100\n",
            "55/55 [==============================] - 81s 1s/step - loss: 0.4823 - accuracy: 0.8091 - val_loss: 0.2972 - val_accuracy: 0.9279\n",
            "Epoch 39/100\n",
            "55/55 [==============================] - 88s 2s/step - loss: 0.4784 - accuracy: 0.8364 - val_loss: 0.3140 - val_accuracy: 0.9099\n",
            "Epoch 40/100\n",
            "55/55 [==============================] - 88s 2s/step - loss: 0.5194 - accuracy: 0.7955 - val_loss: 0.2744 - val_accuracy: 0.9009\n",
            "Epoch 41/100\n",
            "55/55 [==============================] - 83s 2s/step - loss: 0.4994 - accuracy: 0.8182 - val_loss: 0.3060 - val_accuracy: 0.8919\n",
            "Epoch 42/100\n",
            "55/55 [==============================] - 86s 2s/step - loss: 0.4844 - accuracy: 0.8205 - val_loss: 0.2624 - val_accuracy: 0.9369\n",
            "Epoch 43/100\n",
            "55/55 [==============================] - 89s 2s/step - loss: 0.4212 - accuracy: 0.8636 - val_loss: 0.3292 - val_accuracy: 0.8739\n",
            "Epoch 44/100\n",
            "55/55 [==============================] - 79s 1s/step - loss: 0.4607 - accuracy: 0.8023 - val_loss: 0.2777 - val_accuracy: 0.9369\n",
            "Epoch 45/100\n",
            "55/55 [==============================] - 84s 2s/step - loss: 0.4852 - accuracy: 0.8318 - val_loss: 0.2736 - val_accuracy: 0.9459\n",
            "Epoch 46/100\n",
            "55/55 [==============================] - 83s 2s/step - loss: 0.4834 - accuracy: 0.8295 - val_loss: 0.3168 - val_accuracy: 0.9099\n",
            "Epoch 47/100\n",
            "55/55 [==============================] - 82s 1s/step - loss: 0.4475 - accuracy: 0.8477 - val_loss: 0.2550 - val_accuracy: 0.9009\n",
            "Epoch 48/100\n",
            "55/55 [==============================] - 81s 1s/step - loss: 0.4559 - accuracy: 0.8227 - val_loss: 0.2185 - val_accuracy: 0.9550\n",
            "Epoch 49/100\n",
            "55/55 [==============================] - 82s 1s/step - loss: 0.4370 - accuracy: 0.8364 - val_loss: 0.2889 - val_accuracy: 0.8919\n",
            "Epoch 50/100\n",
            "55/55 [==============================] - 83s 2s/step - loss: 0.4875 - accuracy: 0.8295 - val_loss: 0.2473 - val_accuracy: 0.9369\n",
            "Epoch 51/100\n",
            "55/55 [==============================] - 88s 2s/step - loss: 0.4370 - accuracy: 0.8477 - val_loss: 0.2723 - val_accuracy: 0.9099\n",
            "Epoch 52/100\n",
            "55/55 [==============================] - 87s 2s/step - loss: 0.3952 - accuracy: 0.8545 - val_loss: 0.2997 - val_accuracy: 0.9189\n",
            "Epoch 53/100\n",
            "55/55 [==============================] - 85s 2s/step - loss: 0.3976 - accuracy: 0.8705 - val_loss: 0.2140 - val_accuracy: 0.9550\n",
            "Epoch 54/100\n",
            "55/55 [==============================] - 87s 2s/step - loss: 0.4130 - accuracy: 0.8409 - val_loss: 0.2742 - val_accuracy: 0.8829\n",
            "Epoch 55/100\n",
            "55/55 [==============================] - 88s 2s/step - loss: 0.4164 - accuracy: 0.8591 - val_loss: 0.2397 - val_accuracy: 0.9099\n",
            "Epoch 56/100\n",
            "55/55 [==============================] - 84s 2s/step - loss: 0.4285 - accuracy: 0.8500 - val_loss: 0.2725 - val_accuracy: 0.9369\n",
            "Epoch 57/100\n",
            "55/55 [==============================] - 84s 2s/step - loss: 0.3630 - accuracy: 0.8682 - val_loss: 0.2334 - val_accuracy: 0.9369\n",
            "Epoch 58/100\n",
            "55/55 [==============================] - 82s 1s/step - loss: 0.3708 - accuracy: 0.8591 - val_loss: 0.2585 - val_accuracy: 0.9369\n",
            "Epoch 59/100\n",
            "55/55 [==============================] - 89s 2s/step - loss: 0.4256 - accuracy: 0.8341 - val_loss: 0.2436 - val_accuracy: 0.9279\n",
            "Epoch 60/100\n",
            "55/55 [==============================] - 88s 2s/step - loss: 0.4369 - accuracy: 0.8409 - val_loss: 0.1985 - val_accuracy: 0.9550\n",
            "Epoch 61/100\n",
            "55/55 [==============================] - 85s 2s/step - loss: 0.3713 - accuracy: 0.8614 - val_loss: 0.1683 - val_accuracy: 0.9550\n",
            "Epoch 62/100\n",
            "55/55 [==============================] - 86s 2s/step - loss: 0.3906 - accuracy: 0.8500 - val_loss: 0.2426 - val_accuracy: 0.9279\n",
            "Epoch 63/100\n",
            "55/55 [==============================] - 87s 2s/step - loss: 0.3368 - accuracy: 0.8750 - val_loss: 0.2213 - val_accuracy: 0.9369\n",
            "Epoch 64/100\n",
            "55/55 [==============================] - 85s 2s/step - loss: 0.4508 - accuracy: 0.8136 - val_loss: 0.2411 - val_accuracy: 0.9459\n",
            "Epoch 65/100\n",
            "55/55 [==============================] - 84s 2s/step - loss: 0.3876 - accuracy: 0.8682 - val_loss: 0.1920 - val_accuracy: 0.9550\n",
            "Epoch 66/100\n",
            "55/55 [==============================] - 87s 2s/step - loss: 0.3483 - accuracy: 0.8682 - val_loss: 0.1931 - val_accuracy: 0.9279\n",
            "Epoch 67/100\n",
            "55/55 [==============================] - 90s 2s/step - loss: 0.3863 - accuracy: 0.8795 - val_loss: 0.2021 - val_accuracy: 0.9730\n",
            "Epoch 68/100\n",
            "55/55 [==============================] - 88s 2s/step - loss: 0.4147 - accuracy: 0.8432 - val_loss: 0.1998 - val_accuracy: 0.9459\n",
            "Epoch 69/100\n",
            "55/55 [==============================] - 87s 2s/step - loss: 0.3046 - accuracy: 0.9023 - val_loss: 0.2342 - val_accuracy: 0.9009\n",
            "Epoch 70/100\n",
            "55/55 [==============================] - 86s 2s/step - loss: 0.3521 - accuracy: 0.8523 - val_loss: 0.2335 - val_accuracy: 0.9369\n",
            "Epoch 71/100\n",
            "55/55 [==============================] - 86s 2s/step - loss: 0.3257 - accuracy: 0.8886 - val_loss: 0.1765 - val_accuracy: 0.9459\n",
            "Epoch 72/100\n",
            "55/55 [==============================] - 87s 2s/step - loss: 0.3682 - accuracy: 0.8614 - val_loss: 0.1949 - val_accuracy: 0.9459\n",
            "Epoch 73/100\n",
            "55/55 [==============================] - 85s 2s/step - loss: 0.3510 - accuracy: 0.8705 - val_loss: 0.2057 - val_accuracy: 0.9279\n",
            "Epoch 74/100\n",
            "55/55 [==============================] - 81s 1s/step - loss: 0.3410 - accuracy: 0.8727 - val_loss: 0.2006 - val_accuracy: 0.9279\n",
            "Epoch 75/100\n",
            "55/55 [==============================] - 84s 2s/step - loss: 0.3405 - accuracy: 0.8773 - val_loss: 0.1645 - val_accuracy: 0.9550\n",
            "Epoch 76/100\n",
            "55/55 [==============================] - 84s 2s/step - loss: 0.3449 - accuracy: 0.8659 - val_loss: 0.1772 - val_accuracy: 0.9550\n",
            "Epoch 77/100\n",
            "55/55 [==============================] - 89s 2s/step - loss: 0.3927 - accuracy: 0.8545 - val_loss: 0.1619 - val_accuracy: 0.9550\n",
            "Epoch 78/100\n",
            "55/55 [==============================] - 85s 2s/step - loss: 0.3833 - accuracy: 0.8614 - val_loss: 0.1650 - val_accuracy: 0.9730\n",
            "Epoch 79/100\n",
            "55/55 [==============================] - 86s 2s/step - loss: 0.3349 - accuracy: 0.8909 - val_loss: 0.1558 - val_accuracy: 0.9550\n",
            "Epoch 80/100\n",
            "55/55 [==============================] - 80s 1s/step - loss: 0.3225 - accuracy: 0.8909 - val_loss: 0.1749 - val_accuracy: 0.9550\n",
            "Epoch 81/100\n",
            "55/55 [==============================] - 86s 2s/step - loss: 0.2986 - accuracy: 0.8955 - val_loss: 0.1959 - val_accuracy: 0.9369\n",
            "Epoch 82/100\n",
            "55/55 [==============================] - 83s 2s/step - loss: 0.3201 - accuracy: 0.9000 - val_loss: 0.2089 - val_accuracy: 0.9369\n",
            "Epoch 83/100\n",
            "55/55 [==============================] - 89s 2s/step - loss: 0.3265 - accuracy: 0.8818 - val_loss: 0.1620 - val_accuracy: 0.9369\n",
            "Epoch 84/100\n",
            "55/55 [==============================] - 88s 2s/step - loss: 0.3074 - accuracy: 0.8818 - val_loss: 0.1862 - val_accuracy: 0.9459\n",
            "Epoch 85/100\n",
            "55/55 [==============================] - 88s 2s/step - loss: 0.3100 - accuracy: 0.9023 - val_loss: 0.1658 - val_accuracy: 0.9459\n",
            "Epoch 86/100\n",
            "55/55 [==============================] - 85s 2s/step - loss: 0.3754 - accuracy: 0.8614 - val_loss: 0.1565 - val_accuracy: 0.9550\n",
            "Epoch 87/100\n",
            "55/55 [==============================] - 89s 2s/step - loss: 0.3055 - accuracy: 0.8841 - val_loss: 0.1825 - val_accuracy: 0.9189\n",
            "Epoch 88/100\n",
            "55/55 [==============================] - 82s 1s/step - loss: 0.3691 - accuracy: 0.8545 - val_loss: 0.1713 - val_accuracy: 0.9550\n",
            "Epoch 89/100\n",
            "55/55 [==============================] - 83s 2s/step - loss: 0.3311 - accuracy: 0.8636 - val_loss: 0.1223 - val_accuracy: 0.9730\n",
            "Epoch 90/100\n",
            "55/55 [==============================] - 81s 1s/step - loss: 0.3450 - accuracy: 0.8841 - val_loss: 0.1443 - val_accuracy: 0.9820\n",
            "Epoch 91/100\n",
            "55/55 [==============================] - 81s 1s/step - loss: 0.2741 - accuracy: 0.8886 - val_loss: 0.1452 - val_accuracy: 0.9459\n",
            "Epoch 92/100\n",
            "55/55 [==============================] - 85s 2s/step - loss: 0.2922 - accuracy: 0.8864 - val_loss: 0.1364 - val_accuracy: 0.9550\n",
            "Epoch 93/100\n",
            "55/55 [==============================] - 81s 1s/step - loss: 0.3279 - accuracy: 0.8864 - val_loss: 0.1523 - val_accuracy: 0.9730\n",
            "Epoch 94/100\n",
            "55/55 [==============================] - 83s 2s/step - loss: 0.3098 - accuracy: 0.9023 - val_loss: 0.1291 - val_accuracy: 0.9910\n",
            "Epoch 95/100\n",
            "55/55 [==============================] - 83s 2s/step - loss: 0.3615 - accuracy: 0.8682 - val_loss: 0.1663 - val_accuracy: 0.9550\n",
            "Epoch 96/100\n",
            "55/55 [==============================] - 88s 2s/step - loss: 0.3074 - accuracy: 0.9000 - val_loss: 0.1354 - val_accuracy: 0.9550\n",
            "Epoch 97/100\n",
            "55/55 [==============================] - 87s 2s/step - loss: 0.2778 - accuracy: 0.9068 - val_loss: 0.1479 - val_accuracy: 0.9550\n",
            "Epoch 98/100\n",
            "55/55 [==============================] - 86s 2s/step - loss: 0.3305 - accuracy: 0.8773 - val_loss: 0.1466 - val_accuracy: 0.9550\n",
            "Epoch 99/100\n",
            "55/55 [==============================] - 84s 2s/step - loss: 0.3039 - accuracy: 0.8955 - val_loss: 0.1513 - val_accuracy: 0.9640\n",
            "Epoch 100/100\n",
            "55/55 [==============================] - 81s 1s/step - loss: 0.2706 - accuracy: 0.9023 - val_loss: 0.1884 - val_accuracy: 0.9189\n",
            "CPU times: user 2h 15min 44s, sys: 34min 43s, total: 2h 50min 27s\n",
            "Wall time: 3h 7min 28s\n"
          ]
        }
      ],
      "source": [
        "%%time\n",
        "# # Define the callback function\n",
        "early_stopping = EarlyStopping(patience=10)\n",
        "\n",
        "history= model.fit(train_generator,\n",
        "    validation_data=val_generator,\n",
        "    steps_per_epoch=len(train_generator),\n",
        "    epochs=100,\n",
        "    callbacks = callbacks\n",
        ")"
      ]
    },
    {
      "cell_type": "code",
      "execution_count": null,
      "metadata": {
        "colab": {
          "base_uri": "https://localhost:8080/",
          "height": 887
        },
        "id": "5faY50zdV1TN",
        "outputId": "745a0f85-673d-41fc-8353-4a431014d6ef"
      },
      "outputs": [
        {
          "output_type": "display_data",
          "data": {
            "text/plain": [
              "<Figure size 640x480 with 1 Axes>"
            ],
            "image/png": "[encoded data removed]"
          },
          "metadata": {}
        },
        {
          "output_type": "display_data",
          "data": {
            "text/plain": [
              "<Figure size 640x480 with 1 Axes>"
            ],
            "image/png": "[encoded data removed]"
          },
          "metadata": {}
        }
      ],
      "source": [
        "%matplotlib inline\n",
        "\n",
        "import matplotlib.image  as mpimg\n",
        "import matplotlib.pyplot as plt\n",
        "\n",
        "\n",
        "acc = history.history['accuracy']\n",
        "val_acc = history.history['val_accuracy']\n",
        "loss = history.history['loss']\n",
        "val_loss = history.history['val_loss']\n",
        "\n",
        "epochs = range(len(acc))\n",
        "\n",
        "plt.plot(epochs, acc, 'r', label = 'Training Accuracy')\n",
        "plt.plot(epochs, val_acc, 'b', label = 'Validation Accuracy')\n",
        "plt.title('Training and Validation accuracy Model Kematangan')\n",
        "plt.legend(loc = 'best')\n",
        "plt.show()\n",
        "\n",
        "plt.plot(epochs, loss, 'r', label = 'Training Loss')\n",
        "plt.plot(epochs, val_loss, 'b', label = 'Validation Loss')\n",
        "plt.title('Training and Validation accuracy')\n",
        "plt.legend(loc = 'best')\n",
        "plt.show()"
      ]
    },
    {
      "cell_type": "code",
      "execution_count": null,
      "metadata": {
        "colab": {
          "base_uri": "https://localhost:8080/"
        },
        "id": "7sIt-yk9gZAc",
        "outputId": "ebd96e25-a5d4-4481-c0b1-ffc165e679c4"
      },
      "outputs": [
        {
          "output_type": "stream",
          "name": "stderr",
          "text": [
            "/usr/local/lib/python3.10/dist-packages/keras/src/engine/training.py:3103: UserWarning: You are saving your model as an HDF5 file via `model.save()`. This file format is considered legacy. We recommend using instead the native Keras format, e.g. `model.save('my_model.keras')`.\n",
            "  saving_api.save_model(\n"
          ]
        }
      ],
      "source": [
        "model.save('model_kematangan_MobilenetV2_balance_Modif.h5')\n",
        "model_saved = tf.keras.models.load_model('model_kematangan_MobilenetV2_balance_Modif.h5')"
      ]
    },
    {
      "cell_type": "code",
      "execution_count": null,
      "metadata": {
        "id": "x5_titRHgdNn"
      },
      "outputs": [],
      "source": [
        "bnn = []\n",
        "for layer in MobileNetV2_base.layers:\n",
        "    bnn.append(layer.name)\n",
        "print(bnn)\n",
        "print(\"Panjang Layer adalah {}\".format(len(bnn)))"
      ]
    },
    {
      "cell_type": "code",
      "execution_count": null,
      "metadata": {
        "id": "XHp3TKBSgnwF"
      },
      "outputs": [],
      "source": [
        "import numpy as np\n",
        "from keras.preprocessing import image\n",
        "from google.colab import files\n",
        "\n",
        "uploaded = files.upload()\n",
        "\n",
        "for fn in uploaded.keys():\n",
        "\n",
        "  # predicting images\n",
        "  path = fn\n",
        "  img = image.load_img(path, target_size = (224, 224))\n",
        "  imgplot = plt.imshow(img)\n",
        "  x = image.img_to_array(img)\n",
        "  x = np.expand_dims(x, axis = 0)\n",
        "\n",
        "  images = np.vstack([x])\n",
        "  classes = model.predict(images, batch_size = 100)\n",
        "\n",
        "  print(fn)\n",
        "\n",
        "  class_list = os.listdir('/tmp/s/train/')\n",
        "\n",
        "  for j in range(5):\n",
        "    if classes[0][j] > 0.9 :\n",
        "      print('Gambar Berikut Termasuk Tingkat Kematangan', class_list[j])\n",
        "      break"
      ]
    },
    {
      "cell_type": "code",
      "execution_count": null,
      "metadata": {
        "id": "PxvSDW4BhPkk"
      },
      "outputs": [],
      "source": []
    },
    {
      "cell_type": "code",
      "execution_count": null,
      "metadata": {
        "id": "0csG1951gkh-"
      },
      "outputs": [],
      "source": [
        "import cv2\n",
        "from tensorflow.keras.models import Sequential\n",
        "import numpy as np\n",
        "import itertools\n",
        "\n",
        "img_array = cv2.imread(\"tomatte.jpg\")\n",
        "lapisan = bnn[40] #masukan layer pada variable bnn dimulai dari 0-N Contoh bnn[0](Berarti layer nomer 1)\n",
        "last_layer = MobileNetV2_base.get_layer(lapisan)\n",
        "last_output = last_layer.output\n",
        "input_l = MobileNetV2_base.input\n",
        "bn = tf.keras.Model(input_l, last_output)\n",
        "mobnett = Sequential(bn)\n",
        "resize = cv2.resize(img_array, (224, 224))\n",
        "pred = mobnett.predict(np.expand_dims(resize,0))\n",
        "row = 6\n",
        "col = 5\n",
        "fig, axs = plt.subplots(row, col, figsize=(20,20))\n",
        "\n",
        "for idx, ax_idx in enumerate(list(itertools.product(range(row), range(col)))):\n",
        "    axs[ax_idx[0], ax_idx[1]].imshow(pred[0,:,:,idx])\n",
        "\n",
        "plt.tight_layout()\n",
        "plt.show()"
      ]
    },
    {
      "cell_type": "code",
      "source": [
        "os.listdir('/tmp/s/train/')"
      ],
      "metadata": {
        "id": "jWPUtuklMLro",
        "outputId": "fd07e65b-8d86-43a5-bf18-52c2f892496c",
        "colab": {
          "base_uri": "https://localhost:8080/"
        }
      },
      "execution_count": null,
      "outputs": [
        {
          "output_type": "execute_result",
          "data": {
            "text/plain": [
              "['Merah', 'Kuning_Kemerahan', 'Hijau', 'Kuning', 'Kuning_Kehijauan']"
            ]
          },
          "metadata": {},
          "execution_count": 20
        }
      ]
    }
  ],
  "metadata": {
    "colab": {
      "provenance": [],
      "include_colab_link": true
    },
    "kernelspec": {
      "display_name": "Python 3",
      "name": "python3"
    },
    "language_info": {
      "name": "python"
    }
  },
  "nbformat": 4,
  "nbformat_minor": 0
}